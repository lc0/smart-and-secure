{
 "cells": [
  {
   "cell_type": "code",
   "execution_count": 3,
   "metadata": {},
   "outputs": [
    {
     "name": "stdout",
     "output_type": "stream",
     "text": [
      "Collecting ndef\n",
      "  Downloading https://files.pythonhosted.org/packages/0e/40/3271e732557464fb62a39698cfb1deb0838457d7ac82028b6c052a024bd4/ndef-0.1.zip\n",
      "Building wheels for collected packages: ndef\n",
      "  Running setup.py bdist_wheel for ndef ... \u001b[?25ldone\n",
      "\u001b[?25h  Stored in directory: /Users/khomenkos/Library/Caches/pip/wheels/c1/a9/ca/050bf8beaac2b81aac1bdb22d8b7b0f1869a61464a5d069c55\n",
      "Successfully built ndef\n",
      "Installing collected packages: ndef\n",
      "Successfully installed ndef-0.1\n",
      "\u001b[33mYou are using pip version 9.0.1, however version 18.1 is available.\n",
      "You should consider upgrading via the 'pip install --upgrade pip' command.\u001b[0m\n"
     ]
    }
   ],
   "source": [
    "!pip install ndef"
   ]
  },
  {
   "cell_type": "code",
   "execution_count": 21,
   "metadata": {},
   "outputs": [
    {
     "name": "stdout",
     "output_type": "stream",
     "text": [
      "Help on function message_decoder in module ndef.message:\n",
      "\n",
      "message_decoder(stream_or_bytes, errors='strict', known_types={'urn:nfc:wkt:U': <class 'ndef.uri.UriRecord'>, 'urn:nfc:wkt:T': <class 'ndef.text.TextRecord'>, 'urn:nfc:wkt:Sp': <class 'ndef.smartposter.SmartposterRecord'>, 'urn:nfc:wkt:Di': <class 'ndef.deviceinfo.DeviceInformationRecord'>, 'application/vnd.bluetooth.ep.oob': <class 'ndef.bluetooth.BluetoothEasyPairingRecord'>, 'application/vnd.bluetooth.le.oob': <class 'ndef.bluetooth.BluetoothLowEnergyRecord'>, 'application/vnd.wfa.wsc': <class 'ndef.wifi.WifiSimpleConfigRecord'>, 'application/vnd.wfa.p2p': <class 'ndef.wifi.WifiPeerToPeerRecord'>, 'urn:nfc:wkt:Hr': <class 'ndef.handover.HandoverRequestRecord'>, 'urn:nfc:wkt:Hs': <class 'ndef.handover.HandoverSelectRecord'>, 'urn:nfc:wkt:Hm': <class 'ndef.handover.HandoverMediationRecord'>, 'urn:nfc:wkt:Hi': <class 'ndef.handover.HandoverInitiateRecord'>, 'urn:nfc:wkt:Sig': <class 'ndef.signature.SignatureRecord'>})\n",
      "    The message_decoder generator function yields ndef.Record class or\n",
      "    subclass instances from an encoded NDEF Message. The NDEF Message\n",
      "    octets can be read either from a file-like, byte-oriented stream\n",
      "    or from bytes or a bytearray.\n",
      "    \n",
      "    >>> import io\n",
      "    >>> from ndef import message_decoder\n",
      "    >>> hexstr = '900000100000500000'\n",
      "    >>> octets = bytearray.fromhex(hexstr)\n",
      "    >>> stream = io.BytesIO(octets)\n",
      "    >>> list(message_decoder(octets)) == list(message_decoder(stream))\n",
      "    True\n",
      "    >>> for record in message_decoder(octets):\n",
      "    ...     print(record)\n",
      "    ...\n",
      "    NDEF Record TYPE '' ID '' PAYLOAD 0 byte\n",
      "    NDEF Record TYPE '' ID '' PAYLOAD 0 byte\n",
      "    NDEF Record TYPE '' ID '' PAYLOAD 0 byte\n",
      "    \n",
      "    A decoding error will result in an ndef.DecodeError exception.  By\n",
      "    default, errors are handled 'strict'. Minor errors, such as a\n",
      "    missing message begin or end flag, will pass unnoticed if the\n",
      "    errors argument is set to 'relax'. No exception is raised when\n",
      "    errors is set to 'ignore' but the decoded records may not\n",
      "    represent the complete message.\n",
      "    \n",
      "    The known_types argument, if supplied, must be a mapping of record\n",
      "    type names to record classes. By default, if known_types is None,\n",
      "    all registered record types are recognized.\n",
      "\n"
     ]
    }
   ],
   "source": [
    "help(ndef.message_decoder)"
   ]
  },
  {
   "cell_type": "code",
   "execution_count": 38,
   "metadata": {},
   "outputs": [],
   "source": [
    "from ndef import message_decoder"
   ]
  },
  {
   "cell_type": "code",
   "execution_count": 39,
   "metadata": {},
   "outputs": [],
   "source": [
    "def decode_str(hexstr):\n",
    "    octets = bytearray.fromhex(hexstr)\n",
    "    \n",
    "    for record in message_decoder(octets):\n",
    "        yield record\n"
   ]
  },
  {
   "cell_type": "code",
   "execution_count": 40,
   "metadata": {},
   "outputs": [
    {
     "name": "stdout",
     "output_type": "stream",
     "text": [
      "NDEF Text Record ID '' Text 'Hello world!' Language 'en' Encoding 'UTF-8'\n"
     ]
    }
   ],
   "source": [
    "for row in decode_str('D1010F5402656E48656C6C6F20776F726C6421'):\n",
    "    print(row)"
   ]
  },
  {
   "cell_type": "code",
   "execution_count": null,
   "metadata": {},
   "outputs": [],
   "source": []
  }
 ],
 "metadata": {
  "kernelspec": {
   "display_name": "Python 3",
   "language": "python",
   "name": "python3"
  },
  "language_info": {
   "codemirror_mode": {
    "name": "ipython",
    "version": 3
   },
   "file_extension": ".py",
   "mimetype": "text/x-python",
   "name": "python",
   "nbconvert_exporter": "python",
   "pygments_lexer": "ipython3",
   "version": "3.6.2"
  }
 },
 "nbformat": 4,
 "nbformat_minor": 2
}
